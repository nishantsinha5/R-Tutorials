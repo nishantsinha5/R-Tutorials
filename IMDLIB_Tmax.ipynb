{
  "nbformat": 4,
  "nbformat_minor": 0,
  "metadata": {
    "colab": {
      "provenance": [],
      "include_colab_link": true
    },
    "kernelspec": {
      "name": "python3",
      "display_name": "Python 3"
    },
    "language_info": {
      "name": "python"
    }
  },
  "cells": [
    {
      "cell_type": "markdown",
      "metadata": {
        "id": "view-in-github",
        "colab_type": "text"
      },
      "source": [
        "<a href=\"https://colab.research.google.com/github/nishantsinha5/R-Tutorials/blob/master/IMDLIB_Tmax.ipynb\" target=\"_parent\"><img src=\"https://colab.research.google.com/assets/colab-badge.svg\" alt=\"Open In Colab\"/></a>"
      ]
    },
    {
      "cell_type": "code",
      "execution_count": 3,
      "metadata": {
        "id": "TfjD2mg2vqEa",
        "colab": {
          "base_uri": "https://localhost:8080/"
        },
        "outputId": "e4bde72a-4cf0-4712-a7cf-f765498ab50e"
      },
      "outputs": [
        {
          "output_type": "stream",
          "name": "stdout",
          "text": [
            "Drive already mounted at /content/drive; to attempt to forcibly remount, call drive.mount(\"/content/drive\", force_remount=True).\n"
          ]
        }
      ],
      "source": [
        "# Connect Google drive with Google colab\n",
        "from google.colab import drive\n",
        "drive.mount('/content/drive')"
      ]
    },
    {
      "cell_type": "code",
      "source": [
        "pip install imdlib"
      ],
      "metadata": {
        "id": "PtPYYBK4vujK",
        "colab": {
          "base_uri": "https://localhost:8080/"
        },
        "outputId": "d3baf601-5623-450c-fd0c-161bdaa48b53"
      },
      "execution_count": 4,
      "outputs": [
        {
          "output_type": "stream",
          "name": "stdout",
          "text": [
            "Requirement already satisfied: imdlib in /usr/local/lib/python3.10/dist-packages (0.1.20)\n",
            "Requirement already satisfied: matplotlib in /usr/local/lib/python3.10/dist-packages (from imdlib) (3.7.1)\n",
            "Requirement already satisfied: numpy in /usr/local/lib/python3.10/dist-packages (from imdlib) (1.26.4)\n",
            "Requirement already satisfied: pandas in /usr/local/lib/python3.10/dist-packages (from imdlib) (2.2.2)\n",
            "Requirement already satisfied: six in /usr/local/lib/python3.10/dist-packages (from imdlib) (1.16.0)\n",
            "Requirement already satisfied: python-dateutil in /usr/local/lib/python3.10/dist-packages (from imdlib) (2.8.2)\n",
            "Requirement already satisfied: pytz in /usr/local/lib/python3.10/dist-packages (from imdlib) (2024.2)\n",
            "Requirement already satisfied: urllib3 in /usr/local/lib/python3.10/dist-packages (from imdlib) (2.2.3)\n",
            "Requirement already satisfied: scipy in /usr/local/lib/python3.10/dist-packages (from imdlib) (1.13.1)\n",
            "Requirement already satisfied: xarray in /usr/local/lib/python3.10/dist-packages (from imdlib) (2024.9.0)\n",
            "Requirement already satisfied: requests in /usr/local/lib/python3.10/dist-packages (from imdlib) (2.32.3)\n",
            "Requirement already satisfied: contourpy>=1.0.1 in /usr/local/lib/python3.10/dist-packages (from matplotlib->imdlib) (1.3.0)\n",
            "Requirement already satisfied: cycler>=0.10 in /usr/local/lib/python3.10/dist-packages (from matplotlib->imdlib) (0.12.1)\n",
            "Requirement already satisfied: fonttools>=4.22.0 in /usr/local/lib/python3.10/dist-packages (from matplotlib->imdlib) (4.54.1)\n",
            "Requirement already satisfied: kiwisolver>=1.0.1 in /usr/local/lib/python3.10/dist-packages (from matplotlib->imdlib) (1.4.7)\n",
            "Requirement already satisfied: packaging>=20.0 in /usr/local/lib/python3.10/dist-packages (from matplotlib->imdlib) (24.1)\n",
            "Requirement already satisfied: pillow>=6.2.0 in /usr/local/lib/python3.10/dist-packages (from matplotlib->imdlib) (10.4.0)\n",
            "Requirement already satisfied: pyparsing>=2.3.1 in /usr/local/lib/python3.10/dist-packages (from matplotlib->imdlib) (3.2.0)\n",
            "Requirement already satisfied: tzdata>=2022.7 in /usr/local/lib/python3.10/dist-packages (from pandas->imdlib) (2024.2)\n",
            "Requirement already satisfied: charset-normalizer<4,>=2 in /usr/local/lib/python3.10/dist-packages (from requests->imdlib) (3.4.0)\n",
            "Requirement already satisfied: idna<4,>=2.5 in /usr/local/lib/python3.10/dist-packages (from requests->imdlib) (3.10)\n",
            "Requirement already satisfied: certifi>=2017.4.17 in /usr/local/lib/python3.10/dist-packages (from requests->imdlib) (2024.8.30)\n"
          ]
        }
      ]
    },
    {
      "cell_type": "code",
      "source": [
        "# Download the IMD raw data into the google drive\n",
        "import imdlib as imd\n",
        "import pandas as pd\n",
        "import geopandas as gpd\n",
        "from shapely.geometry import Point, Polygon\n",
        "\n",
        "path = \"/content/drive/MyDrive/Colab Notebooks\"\n",
        "\n",
        "start_yr = 1951\n",
        "end_yr = 2023\n",
        "variable = 'tmax' # other options are ('tmin'/ 'tmax')\n",
        "\n",
        "imd.get_data(variable, start_yr, end_yr, fn_format='yearwise', file_dir=path)\n",
        "data = imd.open_data(variable, start_yr, end_yr,'yearwise', path)\n",
        "ds = data.get_xarray()\n",
        "print(ds)\n",
        "\n"
      ],
      "metadata": {
        "id": "dxoZ92AHvwNr",
        "colab": {
          "base_uri": "https://localhost:8080/"
        },
        "outputId": "83caea0d-7806-49cf-9a9b-46635d065caa"
      },
      "execution_count": 13,
      "outputs": [
        {
          "output_type": "stream",
          "name": "stdout",
          "text": [
            "Downloading: maxtemp for year 1951\n",
            "Downloading: maxtemp for year 1952\n",
            "Downloading: maxtemp for year 1953\n",
            "Downloading: maxtemp for year 1954\n",
            "Downloading: maxtemp for year 1955\n",
            "Downloading: maxtemp for year 1956\n",
            "Downloading: maxtemp for year 1957\n",
            "Downloading: maxtemp for year 1958\n",
            "Downloading: maxtemp for year 1959\n",
            "Downloading: maxtemp for year 1960\n",
            "Downloading: maxtemp for year 1961\n",
            "Downloading: maxtemp for year 1962\n",
            "Downloading: maxtemp for year 1963\n",
            "Downloading: maxtemp for year 1964\n",
            "Downloading: maxtemp for year 1965\n",
            "Downloading: maxtemp for year 1966\n",
            "Downloading: maxtemp for year 1967\n",
            "Downloading: maxtemp for year 1968\n",
            "Downloading: maxtemp for year 1969\n",
            "Downloading: maxtemp for year 1970\n",
            "Downloading: maxtemp for year 1971\n",
            "Downloading: maxtemp for year 1972\n",
            "Downloading: maxtemp for year 1973\n",
            "Downloading: maxtemp for year 1974\n",
            "Downloading: maxtemp for year 1975\n",
            "Downloading: maxtemp for year 1976\n",
            "Downloading: maxtemp for year 1977\n",
            "Downloading: maxtemp for year 1978\n",
            "Downloading: maxtemp for year 1979\n",
            "Downloading: maxtemp for year 1980\n",
            "Downloading: maxtemp for year 1981\n",
            "Downloading: maxtemp for year 1982\n",
            "Downloading: maxtemp for year 1983\n",
            "Downloading: maxtemp for year 1984\n",
            "Downloading: maxtemp for year 1985\n",
            "Downloading: maxtemp for year 1986\n",
            "Downloading: maxtemp for year 1987\n",
            "Downloading: maxtemp for year 1988\n",
            "Downloading: maxtemp for year 1989\n",
            "Downloading: maxtemp for year 1990\n",
            "Downloading: maxtemp for year 1991\n",
            "Downloading: maxtemp for year 1992\n",
            "Downloading: maxtemp for year 1993\n",
            "Downloading: maxtemp for year 1994\n",
            "Downloading: maxtemp for year 1995\n",
            "Downloading: maxtemp for year 1996\n",
            "Downloading: maxtemp for year 1997\n",
            "Downloading: maxtemp for year 1998\n",
            "Downloading: maxtemp for year 1999\n",
            "Downloading: maxtemp for year 2000\n",
            "Downloading: maxtemp for year 2001\n",
            "Downloading: maxtemp for year 2002\n",
            "Downloading: maxtemp for year 2003\n",
            "Downloading: maxtemp for year 2004\n",
            "Downloading: maxtemp for year 2005\n",
            "Downloading: maxtemp for year 2006\n",
            "Downloading: maxtemp for year 2007\n",
            "Downloading: maxtemp for year 2008\n",
            "Downloading: maxtemp for year 2009\n",
            "Downloading: maxtemp for year 2010\n",
            "Downloading: maxtemp for year 2011\n",
            "Downloading: maxtemp for year 2012\n",
            "Downloading: maxtemp for year 2013\n",
            "Downloading: maxtemp for year 2014\n",
            "Downloading: maxtemp for year 2015\n",
            "Downloading: maxtemp for year 2016\n",
            "Downloading: maxtemp for year 2017\n",
            "Downloading: maxtemp for year 2018\n",
            "Downloading: maxtemp for year 2019\n",
            "Downloading: maxtemp for year 2020\n",
            "Downloading: maxtemp for year 2021\n",
            "Downloading: maxtemp for year 2022\n",
            "Downloading: maxtemp for year 2023\n",
            "Download Successful !!!\n",
            "<xarray.Dataset> Size: 205MB\n",
            "Dimensions:  (time: 26663, lat: 31, lon: 31)\n",
            "Coordinates:\n",
            "  * lat      (lat) float64 248B 7.5 8.5 9.5 10.5 11.5 ... 34.5 35.5 36.5 37.5\n",
            "  * lon      (lon) float64 248B 67.5 68.5 69.5 70.5 71.5 ... 94.5 95.5 96.5 97.5\n",
            "  * time     (time) datetime64[ns] 213kB 1951-01-01 1951-01-02 ... 2023-12-31\n",
            "Data variables:\n",
            "    tmax     (time, lat, lon) float64 205MB 99.9 99.9 99.9 ... 99.9 99.9 99.9\n",
            "Attributes:\n",
            "    Conventions:  CF-1.7\n",
            "    title:        IMD gridded data\n",
            "    source:       https://imdpune.gov.in/\n",
            "    history:      2024-10-28 12:20:08.560135 Python\n",
            "    references:   \n",
            "    comment:      \n",
            "    crs:          epsg:4326\n"
          ]
        }
      ]
    },
    {
      "cell_type": "code",
      "source": [
        "# Provide the alttitude & Longitude of a point for which the data is required\n",
        "#  And save the data into CSV file\n",
        "\n",
        "lat = 20.03 #lattitude of point\n",
        "lon = 77.23 #longitude of point\n",
        "data.to_csv('data.csv', lat, lon, path)"
      ],
      "metadata": {
        "id": "jMlaw45Dv5UE"
      },
      "execution_count": 9,
      "outputs": []
    },
    {
      "cell_type": "markdown",
      "source": [
        "# New Section"
      ],
      "metadata": {
        "id": "JbYv_pK80GXB"
      }
    },
    {
      "cell_type": "code",
      "source": [
        "# Save CSV files for multiple points\n",
        "\n",
        "# Provide lat and long in a list\n",
        "latLong = [[20.70,77.04],[13.08,77.58],[11.01,76.94],[23.21,79.95],[21.51,70.45],[30.90,75.81],[28.64,77.16],[32.11,76.54],[19.26,76.77],[23.43,85.32],[24.59,73.73],[22.76,88.43],[29.02,79.49],[18.79,78.91],[20.30,85.82],[10.81,76.20],[21.24,81.71],[23.26,77.41]]\n",
        "\n",
        "for points in latLong:\n",
        "  lat = points[0]\n",
        "  lon = points[1]\n",
        "\n",
        "  data.to_csv('Tmax.csv', lat, lon, path)\n",
        "  print (\"data save for \",points)"
      ],
      "metadata": {
        "id": "o5BHr3Fev3W6",
        "colab": {
          "base_uri": "https://localhost:8080/"
        },
        "outputId": "e4221340-1a05-4ff1-a1ce-b80127089552"
      },
      "execution_count": 14,
      "outputs": [
        {
          "output_type": "stream",
          "name": "stdout",
          "text": [
            "data save for  [20.7, 77.04]\n",
            "data save for  [13.08, 77.58]\n",
            "data save for  [11.01, 76.94]\n",
            "data save for  [23.21, 79.95]\n",
            "data save for  [21.51, 70.45]\n",
            "data save for  [30.9, 75.81]\n",
            "data save for  [28.64, 77.16]\n",
            "data save for  [32.11, 76.54]\n",
            "data save for  [19.26, 76.77]\n",
            "data save for  [23.43, 85.32]\n",
            "data save for  [24.59, 73.73]\n",
            "data save for  [22.76, 88.43]\n",
            "data save for  [29.02, 79.49]\n",
            "data save for  [18.79, 78.91]\n",
            "data save for  [20.3, 85.82]\n",
            "data save for  [10.81, 76.2]\n",
            "data save for  [21.24, 81.71]\n",
            "data save for  [23.26, 77.41]\n"
          ]
        }
      ]
    },
    {
      "cell_type": "code",
      "source": [
        "#  Provide the Geojson file of a catchment or polygon to dowlnaod all the gridded data lying into that polygon\n",
        "\n",
        "geojson_file = '/content/drive/MyDrive/IMD/Test_geojson.geojson'\n",
        "\n",
        "\n",
        "url=\"https://drive.google.com/file/d/111XvmUzvTlhY2lbFMseGVhZQh4pisFXQ/view?usp=sharing\"\n",
        "url2='https://drive.google.com/uc?id=' + url.split('/')[-2]\n",
        "\n",
        "points_df = pd.read_csv(url2)\n",
        "\n",
        "\n",
        "geometry = [Point(xy) for xy in zip(points_df['Long'], points_df['Lat'])]\n",
        "\n",
        "# Creating the GeoDataFrame\n",
        "gdf_points = gpd.GeoDataFrame(points_df, geometry=geometry)\n",
        "\n",
        "# Set a CRS (coordinate reference system), EPSG:4326 is WGS84 Lat/Long\n",
        "gdf_points.set_crs(epsg=4326, inplace=True)\n",
        "\n",
        "\n",
        "gdf_polygon = gpd.read_file(geojson_file)\n",
        "\n",
        "# Ensure both GeoDataFrames use the same CRS\n",
        "if gdf_points.crs != gdf_polygon.crs:\n",
        "    gdf_points = gdf_points.to_crs(gdf_polygon.crs)\n",
        "\n",
        "gdf_list = []\n",
        "for row in range (len(gdf_polygon)):\n",
        "    points_in_polygon = gdf_points[gdf_points.within(gdf_polygon.iloc[row].geometry)]\n",
        "    gdf_list.append(points_in_polygon)\n",
        "\n",
        "final_gdf = gpd.GeoDataFrame(pd.concat(gdf_list, ignore_index=True))\n",
        "\n",
        "final_df = final_gdf[[\"Name\",\"Lat\",\"Long\"]]\n",
        "final_df.to_csv(\"Master_file.csv\")\n",
        "\n",
        "for index, row in final_df.iterrows():\n",
        "    lat = row['Lat']\n",
        "    lon = row['Long']\n",
        "    data.to_csv('test.csv', lat, lon, path)\n",
        "    print (\"data save for \" + str(lat)+ \"_\" +str(lon))"
      ],
      "metadata": {
        "id": "A_tNtQFPv61j"
      },
      "execution_count": null,
      "outputs": []
    }
  ]
}